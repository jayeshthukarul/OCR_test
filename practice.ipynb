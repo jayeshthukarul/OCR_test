{
 "cells": [
  {
   "cell_type": "code",
   "execution_count": 1,
   "id": "cbd53974",
   "metadata": {},
   "outputs": [],
   "source": [
    "import pytesseract as pt\n",
    "import cv2 \n",
    "import numpy as np"
   ]
  },
  {
   "cell_type": "code",
   "execution_count": 4,
   "id": "9b893fe5",
   "metadata": {},
   "outputs": [
    {
     "name": "stdout",
     "output_type": "stream",
     "text": [
      "(372, 514, 3)\n"
     ]
    }
   ],
   "source": [
    "## Read the image\n",
    "img = cv2.imread(\"image/1.png\")\n",
    "# print(img)  # print the array of image\n",
    "\n",
    "# find the shape of image\n",
    "print(img.shape) # the shape of image\n",
    "\n",
    "\n",
    "\n"
   ]
  },
  {
   "cell_type": "code",
   "execution_count": 5,
   "id": "87f5b546",
   "metadata": {},
   "outputs": [],
   "source": [
    "# show image in anothe window\n",
    "cv2.imshow(\"image\",img)  # display image\n",
    "cv2.waitKey(0)           # window will wait for till any key is pressed\n",
    "cv2.destroyAllWindows()  # close all the window"
   ]
  },
  {
   "cell_type": "code",
   "execution_count": 6,
   "id": "80c0a884",
   "metadata": {},
   "outputs": [
    {
     "name": "stdout",
     "output_type": "stream",
     "text": [
      "Three important revolutions shaped the course of history: the Cognitive\n",
      "Revolution kick-started history about 70,000 years ago. The Agricultural Revo-\n",
      "lution sped it up about 12,000 years ago. The Scientific Revolution, which got\n",
      "under way only 500 years ago, may well end history and start something com-\n",
      "pletely different. This book tells the story of how these three revolutions have af-\n",
      "fected humans and their fellow organisms.\n",
      "\n",
      "There were humans long before there was history. Animals much like modern\n",
      "humans first appeared about 2.5 million years ago. But for countless gener-\n",
      "ations they did not stand out from the myriad other organisms that populated\n",
      "the planet.\n",
      "\n",
      "On a hike in East Africa 2 million years ago, you might well have encoun-\n",
      "tered a familiar cast of human characters: anxious mothers cuddling their ba-\n",
      "bies and clutches of carefree children playing in the mud; temperamental youths\n",
      "chafing against the dictates of society and weary elders who just wanted to be\n",
      "\f",
      "\n"
     ]
    }
   ],
   "source": [
    "# to get the text from the image\n",
    "\n",
    "text = pt.image_to_string(img)\n",
    "print(text)"
   ]
  },
  {
   "cell_type": "markdown",
   "id": "404de617",
   "metadata": {},
   "source": [
    "## The pre- processing of the image"
   ]
  },
  {
   "cell_type": "code",
   "execution_count": 10,
   "id": "bdd6213a",
   "metadata": {},
   "outputs": [
    {
     "name": "stdout",
     "output_type": "stream",
     "text": [
      "(372, 514)\n"
     ]
    }
   ],
   "source": [
    "# converting the image into gray scale\n",
    "img = cv2.imread(\"image/1.png\")\n",
    "gray_scale_img = cv2.cvtColor(img,cv2.COLOR_BGR2GRAY)\n",
    "cv2.imshow(\"image\",gray_scale_img)  # display image\n",
    "cv2.waitKey(0)           # window will wait for till any key is pressed\n",
    "cv2.destroyAllWindows()  # close all the window\n",
    "print(gray_scale_img.shape)  # there is only one channel in gray scale that why the shape is (h,w,1)"
   ]
  },
  {
   "cell_type": "code",
   "execution_count": 11,
   "id": "8e5034c3",
   "metadata": {},
   "outputs": [
    {
     "name": "stdout",
     "output_type": "stream",
     "text": [
      "(372, 372, 3)\n"
     ]
    }
   ],
   "source": [
    "## Resize the shape of the image by passing the parameter\n",
    "img = cv2.imread(\"image/1.png\")\n",
    "resize_img =cv2.resize(img,(372,372))\n",
    "cv2.imshow(\"image\",resize_img)  # display image\n",
    "cv2.waitKey(0)           # window will wait for till any key is pressed\n",
    "cv2.destroyAllWindows()  # close all the window\n",
    "print(resize_img.shape) "
   ]
  },
  {
   "cell_type": "code",
   "execution_count": 14,
   "id": "861b1432",
   "metadata": {},
   "outputs": [
    {
     "name": "stdout",
     "output_type": "stream",
     "text": [
      "(186, 257, 3)\n"
     ]
    }
   ],
   "source": [
    "## Resize the shape of the image by proportion i.e percentage (decresase the size)\n",
    "img = cv2.imread(\"image/1.png\")\n",
    "resize_img =cv2.resize(img,(0,0),fx = 0.5, fy = 0.5)  # fx = width and fy = height\n",
    "cv2.imshow(\"image\",resize_img)  # display image\n",
    "cv2.waitKey(0)           # window will wait for till any key is pressed\n",
    "cv2.destroyAllWindows()  # close all the window\n",
    "print(resize_img.shape)  # (186(h), 257(w), 3)"
   ]
  },
  {
   "cell_type": "code",
   "execution_count": 15,
   "id": "5e5b6ce8",
   "metadata": {},
   "outputs": [
    {
     "name": "stdout",
     "output_type": "stream",
     "text": [
      "(558, 617, 3)\n"
     ]
    }
   ],
   "source": [
    "## Resize the shape of the image by proportion i.e percentage (increaase the size)\n",
    "img = cv2.imread(\"image/1.png\")\n",
    "resize_img =cv2.resize(img,(0,0),fx = 1.2, fy = 1.5)  # fx = width and fy = height\n",
    "cv2.imshow(\"image\",resize_img)  # display image\n",
    "cv2.waitKey(0)           # window will wait for till any key is pressed\n",
    "cv2.destroyAllWindows()  # close all the window\n",
    "print(resize_img.shape)  # (558(h), 617(w), 3)"
   ]
  },
  {
   "cell_type": "code",
   "execution_count": 16,
   "id": "ead7d9df",
   "metadata": {},
   "outputs": [
    {
     "name": "stdout",
     "output_type": "stream",
     "text": [
      "(558, 617, 3)\n"
     ]
    },
    {
     "data": {
      "text/plain": [
       "True"
      ]
     },
     "execution_count": 16,
     "metadata": {},
     "output_type": "execute_result"
    }
   ],
   "source": [
    "## to save the edited image in the local machine\n",
    "img = cv2.imread(\"image/1.png\")\n",
    "resize_img =cv2.resize(img,(0,0),fx = 1.2, fy = 1.5)  # fx = width and fy = height\n",
    "cv2.imshow(\"image\",resize_img)  # display image\n",
    "cv2.waitKey(0)           # window will wait for till any key is pressed\n",
    "cv2.destroyAllWindows()  # close all the window\n",
    "print(resize_img.shape)\n",
    "cv2.imwrite(\"image/resize_img.png\",resize_img)"
   ]
  },
  {
   "cell_type": "markdown",
   "id": "f4036723",
   "metadata": {},
   "source": [
    "## Drawing on the image"
   ]
  },
  {
   "cell_type": "code",
   "execution_count": 25,
   "id": "9a0e2b72",
   "metadata": {},
   "outputs": [],
   "source": [
    "# creat an image using numpy array\n",
    "img = np.zeros((600,600,3))   # created a black image \n",
    "cv2.imshow('image',img)\n",
    "cv2.waitKey(0)           # window will wait for till any key is pressed\n",
    "cv2.destroyAllWindows()  # close all the window"
   ]
  },
  {
   "cell_type": "code",
   "execution_count": 33,
   "id": "9a5a51c5",
   "metadata": {},
   "outputs": [],
   "source": [
    "## to draw the rectangle,circle,line on image\n",
    "img = np.zeros((600,600,3))   # created a black image \n",
    "cv2.rectangle(img,pt1 = (50,50),pt2=(200,200),color = (125,0,0),thickness = 10)\n",
    "cv2.circle(img,center=(450,450),radius=50,color=(0,56,0),thickness=5)\n",
    "cv2.line(img,pt1 = (300,300),pt2 =(600,300),color=(0,0,25),thickness = 3)\n",
    "cv2.imshow('image',img)\n",
    "cv2.waitKey(0)           # window will wait for till any key is pressed\n",
    "cv2.destroyAllWindows() \n"
   ]
  },
  {
   "cell_type": "code",
   "execution_count": 36,
   "id": "590e0ff6",
   "metadata": {},
   "outputs": [],
   "source": [
    "## to fill the shape drawn just change the thickness to -1\n",
    "img = np.zeros((600,600,3))   # created a black image \n",
    "cv2.rectangle(img,pt1 = (50,50),pt2=(200,200),color = (125,0,0),thickness = -1)\n",
    "cv2.circle(img,center=(450,450),radius=50,color=(0,56,0),thickness=-1)\n",
    "cv2.line(img,pt1 = (300,300),pt2 =(600,300),color=(0,0,25),thickness = 3)\n",
    "cv2.imshow('image',img)\n",
    "cv2.waitKey(0)           # window will wait for till any key is pressed\n",
    "cv2.destroyAllWindows() \n"
   ]
  },
  {
   "cell_type": "code",
   "execution_count": 40,
   "id": "f65f3e46",
   "metadata": {},
   "outputs": [
    {
     "data": {
      "text/plain": [
       "(480, 1366, 3)"
      ]
     },
     "execution_count": 40,
     "metadata": {},
     "output_type": "execute_result"
    }
   ],
   "source": [
    "## to access particular pixel from the image\n",
    "img = cv2.imread('image/3.png')\n",
    "cv2.imshow('image',img)\n",
    "cv2.waitKey(0)           # window will wait for till any key is pressed\n",
    "cv2.destroyAllWindows()\n",
    "img.shape"
   ]
  },
  {
   "cell_type": "code",
   "execution_count": 42,
   "id": "243374c7",
   "metadata": {},
   "outputs": [
    {
     "data": {
      "text/plain": [
       "(480, 1366, 3)"
      ]
     },
     "execution_count": 42,
     "metadata": {},
     "output_type": "execute_result"
    }
   ],
   "source": [
    "img = cv2.imread('image/3.png')\n",
    "cv2.imshow('image',img[120:,550:])\n",
    "cv2.waitKey(0)           # window will wait for till any key is pressed\n",
    "cv2.destroyAllWindows()\n",
    "img.shape"
   ]
  },
  {
   "cell_type": "code",
   "execution_count": 43,
   "id": "95c8b2dd",
   "metadata": {},
   "outputs": [],
   "source": [
    "#Example of gray scale\n",
    "# converting the image into gray scale\n",
    "img = cv2.imread(\"image/3.png\")\n",
    "gray_scale_img = cv2.cvtColor(img,cv2.COLOR_BGR2GRAY)\n",
    "cv2.imshow(\"image\",gray_scale_img)  # display image\n",
    "cv2.waitKey(0)           # window will wait for till any key is pressed\n",
    "cv2.destroyAllWindows()  # close all the window"
   ]
  },
  {
   "cell_type": "code",
   "execution_count": 46,
   "id": "7f54a832",
   "metadata": {},
   "outputs": [],
   "source": [
    "#Example of BGR to RGB\n",
    "# converting the image into RGB\n",
    "img = cv2.imread(\"image/3.png\")\n",
    "gray_scale_img = cv2.cvtColor(img,cv2.COLOR_BGR2RGB)\n",
    "cv2.imshow(\"image\",gray_scale_img)  # display image\n",
    "cv2.waitKey(0)           # window will wait for till any key is pressed\n",
    "cv2.destroyAllWindows()  # close all the window"
   ]
  },
  {
   "cell_type": "markdown",
   "id": "d29020be",
   "metadata": {},
   "source": [
    "## Flip an image"
   ]
  },
  {
   "cell_type": "code",
   "execution_count": 5,
   "id": "f0c11310",
   "metadata": {},
   "outputs": [],
   "source": [
    "img = cv2.imread(\"image/3.png\")\n",
    "# vertical flip (origin is at (top,left) as original)\n",
    "flip_img = cv2.flip(img,0)    # vertical flip (origin is at (bottom,left) after flip) or vertical mirror image \n",
    "cv2.imshow(\"image\",flip_img)  # display image\n",
    "cv2.waitKey(0)           # window will wait for till any key is pressed\n",
    "cv2.destroyAllWindows()  # close all the window"
   ]
  },
  {
   "cell_type": "code",
   "execution_count": 6,
   "id": "642ffd4d",
   "metadata": {},
   "outputs": [],
   "source": [
    "img = cv2.imread(\"image/3.png\")\n",
    "# vertical flip (origin is at (top,left) as original)\n",
    "flip_img = cv2.flip(img,1)    # vertical flip (origin is at (top,right) after flip) or horizontal mirror image\n",
    "cv2.imshow(\"image\",flip_img)  # display image\n",
    "cv2.waitKey(0)           # window will wait for till any key is pressed\n",
    "cv2.destroyAllWindows()  # close all the window"
   ]
  },
  {
   "cell_type": "code",
   "execution_count": 7,
   "id": "6e2840a3",
   "metadata": {},
   "outputs": [],
   "source": [
    "img = cv2.imread(\"image/3.png\")\n",
    "# vertical flip (origin is at (top,left) as original)\n",
    "flip_img = cv2.flip(img,-1)    # vertical flip and horizontal flip (origin is at (bottom,right) after flip) \n",
    "cv2.imshow(\"image\",flip_img)  # display image\n",
    "cv2.waitKey(0)           # window will wait for till any key is pressed\n",
    "cv2.destroyAllWindows()  # close all the window"
   ]
  },
  {
   "cell_type": "markdown",
   "id": "ddb229a1",
   "metadata": {},
   "source": [
    "## Crop an image"
   ]
  },
  {
   "cell_type": "code",
   "execution_count": 11,
   "id": "0854ff77",
   "metadata": {},
   "outputs": [],
   "source": [
    "img = cv2.imread(\"image/2.png\")\n",
    "crop_img = img[250:600,:250]\n",
    "cv2.imshow(\"image\",crop_img)  # display image\n",
    "cv2.waitKey(0)           # window will wait for till any key is pressed\n",
    "cv2.destroyAllWindows()  # close all the window"
   ]
  },
  {
   "cell_type": "code",
   "execution_count": 9,
   "id": "73084a58",
   "metadata": {},
   "outputs": [
    {
     "data": {
      "text/plain": [
       "(628, 1200, 3)"
      ]
     },
     "execution_count": 9,
     "metadata": {},
     "output_type": "execute_result"
    }
   ],
   "source": [
    "img = cv2.imread(\"image/2.png\")\n",
    "img.shape"
   ]
  },
  {
   "cell_type": "markdown",
   "id": "e6d43eb6",
   "metadata": {},
   "source": [
    "## Thresholding of image"
   ]
  },
  {
   "cell_type": "code",
   "execution_count": 21,
   "id": "a6eebf2a",
   "metadata": {},
   "outputs": [],
   "source": [
    "#1)THRESH_BINARY\n",
    "img = cv2.imread(\"image/1.png\")\n",
    "ret,thresh = cv2.threshold(img,160,255,type = cv2.THRESH_BINARY)  # pixel value which are greater than or equal \n",
    "                                                                  #to 160 will become 255 and other all to be 0\n",
    "cv2.imshow(\"image\",thresh)  # display image\n",
    "cv2.waitKey(0)           # window will wait for till any key is pressed\n",
    "cv2.destroyAllWindows()  # close all the window\n"
   ]
  },
  {
   "cell_type": "code",
   "execution_count": 2,
   "id": "3e80620c",
   "metadata": {},
   "outputs": [],
   "source": [
    "#2)THRESH_BINARY_INV\n",
    "img = cv2.imread(\"image/1.png\")\n",
    "ret,thresh = cv2.threshold(img,160,255,type = cv2.THRESH_BINARY_INV)  # pixel value which are greater than or equal \n",
    "                                                                  #to 160 will become 0 and other all to be 255\n",
    "cv2.imshow(\"image\",thresh)  # display image\n",
    "cv2.waitKey(0)           # window will wait for till any key is pressed\n",
    "cv2.destroyAllWindows()  # close all the window\n"
   ]
  },
  {
   "cell_type": "code",
   "execution_count": 7,
   "id": "107c2165",
   "metadata": {},
   "outputs": [],
   "source": [
    "#3)ThRESH_TRUNC\n",
    "img = cv2.imread(\"image/1.png\")\n",
    "ret,thresh = cv2.threshold(img,90,255,type = cv2.THRESH_TRUNC)  # pixel value which are greater than or equal \n",
    "                                                                  #to 90 will become 90 and other all to be same\n",
    "cv2.imshow(\"image\",thresh)  # display image\n",
    "cv2.waitKey(0)           # window will wait for till any key is pressed\n",
    "cv2.destroyAllWindows()  # close all the window"
   ]
  },
  {
   "cell_type": "code",
   "execution_count": 14,
   "id": "c16c21b7",
   "metadata": {},
   "outputs": [],
   "source": [
    "#4)ThRESH_TOZERO\n",
    "img = cv2.imread(\"image/1.png\")\n",
    "ret,thresh = cv2.threshold(img,120,255,type = cv2.THRESH_TOZERO)  # pixel value which are greater than or equal \n",
    "                                                                  #to 120 will become 0 and other all to be same  \n",
    "cv2.imshow(\"image\",thresh)  # display image\n",
    "cv2.waitKey(0)           # window will wait for till any key is pressed\n",
    "cv2.destroyAllWindows()  # close all the window"
   ]
  },
  {
   "cell_type": "code",
   "execution_count": 16,
   "id": "1d2f59fa",
   "metadata": {},
   "outputs": [],
   "source": [
    "#5)ThRESH_TOZERO_INV\n",
    "img = cv2.imread(\"image/1.png\")\n",
    "ret,thresh = cv2.threshold(img,240,255,type = cv2.THRESH_TOZERO_INV)  # pixel value which are greater than or equal \n",
    "                                                                  #to 120 will become 0 and other all to be same  \n",
    "cv2.imshow(\"image\",thresh)  # display image\n",
    "cv2.waitKey(0)           # window will wait for till any key is pressed\n",
    "cv2.destroyAllWindows()  # close all the window"
   ]
  },
  {
   "cell_type": "markdown",
   "id": "8c61e290",
   "metadata": {},
   "source": [
    "## arithmetic operation in image"
   ]
  },
  {
   "cell_type": "code",
   "execution_count": 2,
   "id": "1fc75b2a",
   "metadata": {},
   "outputs": [],
   "source": [
    "img1 =cv2.imread(\"image/2.png\")\n",
    "img2 =cv2.imread(\"image/3.png\") \n",
    "# arithmetic operation both image should have the same shape\n",
    "img1 = cv2.resize(img1,(500,500))  # Resizing the image\n",
    "img2 = cv2.resize(img2,(500,500))  # Resizing the image\n",
    "cv2.imshow(\"image1\",img1)  # display image 1\n",
    "cv2.imshow(\"image2\",img2)  # display image 2\n",
    "cv2.waitKey(0)           # window will wait for till any key is pressed\n",
    "cv2.destroyAllWindows()  # close all the window\n"
   ]
  },
  {
   "cell_type": "code",
   "execution_count": 5,
   "id": "794248e9",
   "metadata": {},
   "outputs": [],
   "source": [
    "#1)Add two image (if after adding the pixel values is greater than 255 then it will take it as 255 only)\n",
    "new_image = cv2.add(img1,img2)\n",
    "cv2.imshow(\"image\",new_image)  # display image\n",
    "cv2.waitKey(0)           # window will wait for till any key is pressed\n",
    "cv2.destroyAllWindows()  # close all the window"
   ]
  },
  {
   "cell_type": "code",
   "execution_count": 6,
   "id": "08c26acf",
   "metadata": {},
   "outputs": [],
   "source": [
    "#2)Subtract two img (if after subtracting the pixel values is negative then it will take it as 0 only)\n",
    "new_image = cv2.subtract(img1,img2)\n",
    "cv2.imshow(\"image\",new_image)  # display image \n",
    "cv2.waitKey(0)           # window will wait for till any key is pressed\n",
    "cv2.destroyAllWindows()  # close all the window"
   ]
  },
  {
   "cell_type": "code",
   "execution_count": 7,
   "id": "fe3c7b48",
   "metadata": {},
   "outputs": [],
   "source": [
    "#3)divide two img (if after dividing the pixel values is nround up to near value e.g 2.3 to 3 or 3.6 to 4)\n",
    "new_image = cv2.divide(img1,img2)\n",
    "cv2.imshow(\"image\",new_image)  # display image \n",
    "cv2.waitKey(0)           # window will wait for till any key is pressed\n",
    "cv2.destroyAllWindows()  # close all the window"
   ]
  },
  {
   "cell_type": "code",
   "execution_count": 9,
   "id": "1c176563",
   "metadata": {},
   "outputs": [],
   "source": [
    "# there is one parameter which is known as scale which will be scale the result as per the specified value\n",
    "new_image = cv2.divide(img1,img2,scale = 5)\n",
    "cv2.imshow(\"image\",new_image)  # display image \n",
    "cv2.waitKey(0)           # window will wait for till any key is pressed\n",
    "cv2.destroyAllWindows()  # close all the window"
   ]
  },
  {
   "cell_type": "code",
   "execution_count": 18,
   "id": "fa87e262",
   "metadata": {},
   "outputs": [],
   "source": [
    "#4)multiply two img (if after multiply the pixel values is much greater than 255 it will take it as 255 only )\n",
    "new_image = cv2.multiply(img1,img2,scale=100)\n",
    "cv2.imshow(\"image\",new_image)  # display image \n",
    "cv2.waitKey(0)           # window will wait for till any key is pressed\n",
    "cv2.destroyAllWindows()  # close all the window"
   ]
  },
  {
   "cell_type": "code",
   "execution_count": 24,
   "id": "34436bbe",
   "metadata": {},
   "outputs": [],
   "source": [
    "#5)Add weighted to img  \n",
    "#alpha is weightage of src1\n",
    "#beta is weightage of src2\n",
    "#gamma is scale \n",
    "new_image = cv2.addWeighted(src1 = img1,alpha = 0.8,src2 = img2,beta = 0.2,gamma=10)\n",
    "cv2.imshow(\"image\",new_image)  # display image \n",
    "cv2.waitKey(0)           # window will wait for till any key is pressed\n",
    "cv2.destroyAllWindows()  # close all the window"
   ]
  },
  {
   "cell_type": "markdown",
   "id": "c73719f3",
   "metadata": {},
   "source": [
    "## BITWISE Operation on binary image"
   ]
  },
  {
   "cell_type": "code",
   "execution_count": 3,
   "id": "3e0d0508",
   "metadata": {},
   "outputs": [],
   "source": [
    "# Bitwise and operation  True = White and False = Black\n",
    "# In \"AND\" if both pixel is greater then 0 than it is true\n",
    "img1 =cv2.imread(\"image/traingle.png\")\n",
    "img2 =cv2.imread(\"image/circle.png\") \n",
    "final_img = cv2.bitwise_and(img1,img2)\n",
    "cv2.imshow(\"image\",final_img)  # display image \n",
    "cv2.waitKey(0)           # window will wait for till any key is pressed\n",
    "cv2.destroyAllWindows()  # close all the window"
   ]
  },
  {
   "cell_type": "code",
   "execution_count": 6,
   "id": "99320211",
   "metadata": {},
   "outputs": [],
   "source": [
    "# Bitwise OR operation\n",
    "# IN \"OR\" if either of the pixel is greater then 0 or both than it is true\n",
    "img1 =cv2.imread(\"image/traingle.png\")\n",
    "img2 =cv2.imread(\"image/circle.png\") \n",
    "final_img = cv2.bitwise_or(img1,img2)\n",
    "cv2.imshow(\"image\",final_img)  # display image \n",
    "cv2.waitKey(0)           # window will wait for till any key is pressed\n",
    "cv2.destroyAllWindows()  # close all the window"
   ]
  },
  {
   "cell_type": "code",
   "execution_count": 5,
   "id": "1759426d",
   "metadata": {},
   "outputs": [],
   "source": [
    "# Bitwise XOR operation\n",
    "# IN \"XOR\" if either of the pixel is greater then 0 than it is true and if both pixel is >0 than false.\n",
    "img1 =cv2.imread(\"image/traingle.png\")\n",
    "img2 =cv2.imread(\"image/circle.png\") \n",
    "final_img = cv2.bitwise_xor(img1,img2)\n",
    "cv2.imshow(\"image\",final_img)  # display image \n",
    "cv2.waitKey(0)           # window will wait for till any key is pressed\n",
    "cv2.destroyAllWindows()  # close all the window"
   ]
  },
  {
   "cell_type": "code",
   "execution_count": 8,
   "id": "c6b621df",
   "metadata": {},
   "outputs": [],
   "source": [
    "# Bitwise NOT operation\n",
    "# IN \"NOT\" if will convert black into white pixel and vice versa\n",
    "img1 =cv2.imread(\"image/traingle.png\")\n",
    "final_img = cv2.bitwise_not(img1)\n",
    "cv2.imshow(\"image\",final_img)  # display image \n",
    "cv2.waitKey(0)           # window will wait for till any key is pressed\n",
    "cv2.destroyAllWindows()  # close all the window"
   ]
  },
  {
   "cell_type": "markdown",
   "id": "eb9ce497",
   "metadata": {},
   "source": [
    "## Morphological Processing"
   ]
  },
  {
   "cell_type": "raw",
   "id": "71a0e414",
   "metadata": {},
   "source": [
    "Morphological processig :\n",
    ">> We try to play with the feature\n",
    ">> we try highlight the feature or not to highlight the feature \n",
    ">> we try reduce the noise or increase it or both\n",
    "\n",
    "Feaure:\n",
    ">> Feature means how you are able to recognize the person for person the feature may be shape of the face\n",
    "   beard shape and all\n",
    ">> for mango the feature may be its shape its color e.t.c\n",
    "\n",
    "IN Morphological there are four types of operation:\n",
    "\n",
    ">> Erosion : Where we try to decrease the noise (Shape of the image Or feature get highlighted)\n",
    ">> Dilation :Where we try to increase the noise \n",
    ">> opening : First we apply Erosion than dilation\n",
    ">> Closing : First we apply Dilation than Erosion\n",
    "\n",
    "Generally the morphological operation is applied on binary image or grayscaled image."
   ]
  },
  {
   "cell_type": "code",
   "execution_count": 13,
   "id": "d0a49fa6",
   "metadata": {},
   "outputs": [],
   "source": [
    "## Erosion\n",
    "img = cv2.imread(\"image/3.png\")\n",
    "gray_img = cv2.cvtColor(img,cv2.COLOR_BGR2GRAY)\n",
    "kernel = np.ones((3,3),np.uint8)\n",
    "img_erosion = cv2.erode(src = gray_img,kernel = kernel , iterations = 2)\n",
    "cv2.imshow(\"image\",gray_img)  # display image\n",
    "cv2.imshow(\"img\",img_erosion)\n",
    "cv2.waitKey(0)           # window will wait for till any key is pressed\n",
    "cv2.destroyAllWindows()  # close all the window"
   ]
  },
  {
   "cell_type": "code",
   "execution_count": 15,
   "id": "42af8889",
   "metadata": {},
   "outputs": [],
   "source": [
    "## dilation\n",
    "img = cv2.imread(\"image/3.png\")\n",
    "gray_img = cv2.cvtColor(img,cv2.COLOR_BGR2GRAY)\n",
    "kernel = np.ones((3,3),np.uint8)\n",
    "img_dilation = cv2.dilate(src = gray_img,kernel = kernel , iterations = 2)\n",
    "cv2.imshow(\"image\",gray_img)  # display image\n",
    "cv2.imshow(\"img\",img_dilation)\n",
    "cv2.waitKey(0)           # window will wait for till any key is pressed\n",
    "cv2.destroyAllWindows()  # close all the window"
   ]
  },
  {
   "cell_type": "code",
   "execution_count": 5,
   "id": "f350e045",
   "metadata": {},
   "outputs": [],
   "source": [
    "## opening\n",
    "# opening (first erosion and then dilation)\n",
    "\n",
    "img = cv2.imread(\"image/3.png\")\n",
    "gray_img = cv2.cvtColor(img,cv2.COLOR_BGR2GRAY)\n",
    "kernel = np.ones((3,3),np.uint8)\n",
    "opening = cv2.morphologyEx(src = gray_img,op=cv2.MORPH_OPEN,kernel = kernel , iterations = 2)\n",
    "cv2.imshow(\"image\",gray_img)  # display image\n",
    "cv2.imshow(\"opening\",opening)\n",
    "cv2.waitKey(0)           # window will wait for till any key is pressed\n",
    "cv2.destroyAllWindows()  # close all the window\n"
   ]
  },
  {
   "cell_type": "code",
   "execution_count": 4,
   "id": "cd5f4892",
   "metadata": {},
   "outputs": [],
   "source": [
    "## Closing\n",
    "# closing (first dilation and then erosion )\n",
    "img = cv2.imread(\"image/3.png\")\n",
    "gray_img = cv2.cvtColor(img,cv2.COLOR_BGR2GRAY)\n",
    "kernel = np.ones((3,3),np.uint8)\n",
    "closing = cv2.morphologyEx(src = gray_img,op=cv2.MORPH_CLOSE,kernel = kernel , iterations = 2)\n",
    "cv2.imshow(\"image\",gray_img)  # display image\n",
    "cv2.imshow(\"opening\",closing)\n",
    "cv2.waitKey(0)           # window will wait for till any key is pressed\n",
    "cv2.destroyAllWindows()  # close all the window\n"
   ]
  },
  {
   "cell_type": "markdown",
   "id": "3a41b65b",
   "metadata": {},
   "source": [
    "## Creating border around image"
   ]
  },
  {
   "cell_type": "code",
   "execution_count": 12,
   "id": "782ef7f2",
   "metadata": {},
   "outputs": [],
   "source": [
    "img = cv2.imread(\"image/1.png\")\n",
    "border_img =cv2.copyMakeBorder(img,10,10,10,10,cv2.BORDER_DEFAULT)\n",
    "cv2.imshow(\"border\",border_img) # display image\n",
    "cv2.waitKey(0)           # window will wait for till any key is pressed\n",
    "cv2.destroyAllWindows()  # close all the window\n"
   ]
  },
  {
   "cell_type": "markdown",
   "id": "a2ee3ba8",
   "metadata": {},
   "source": [
    "## Filter color / image segmentation"
   ]
  },
  {
   "cell_type": "code",
   "execution_count": 46,
   "id": "2af2c019",
   "metadata": {},
   "outputs": [],
   "source": [
    "# opencv by default is BGR Format but for image segmentation we need to convert the BGR to HSV Format\n",
    "img = cv2.imread(\"image/4.png\")\n",
    "img_rsize = cv2.resize(img,(500,500))\n",
    "hsv_image = cv2.cvtColor(img_rsize,cv2.COLOR_BGR2HSV)\n",
    "\n",
    "lower_red = np.array([120,150,50])\n",
    "upper_red = np.array([200,255,200])\n",
    "\n",
    "mask =cv2.inRange(hsv_image,lower_red,upper_red)\n",
    "final = cv2.bitwise_and(img_rsize,img_rsize,mask = mask)\n",
    "cv2.imshow(\"image\",img_rsize) # display image\n",
    "cv2.imshow(\"mask\",final) # display image\n",
    "cv2.waitKey(0)           # window will wait for till any key is pressed\n",
    "cv2.destroyAllWindows()  # close all the window\n"
   ]
  },
  {
   "cell_type": "code",
   "execution_count": 26,
   "id": "12ea4e6b",
   "metadata": {},
   "outputs": [
    {
     "name": "stdout",
     "output_type": "stream",
     "text": [
      "[[[  0 255 255]]]\n"
     ]
    }
   ],
   "source": [
    "## to find out the range of red in hsv \n",
    "img = np.uint8([[[0,0,255]]])\n",
    "hsv_clr=cv2.cvtColor(img,cv2.COLOR_BGR2HSV)\n",
    "print(hsv_clr)"
   ]
  },
  {
   "cell_type": "markdown",
   "id": "fd6c7543",
   "metadata": {},
   "source": [
    "## image Translation"
   ]
  },
  {
   "cell_type": "code",
   "execution_count": 47,
   "id": "b10a2f45",
   "metadata": {},
   "outputs": [],
   "source": [
    "img = cv2.imread(\"image/4.png\")\n",
    "img_rsize = cv2.resize(img,(500,600))\n",
    "M = np.float32([[1,0,100],[0,1,100]])     #([[1,0,x],[0,1,y]])\n",
    "shifted = cv2.warpAffine(img_rsize,dsize=(500,600),M=M)\n",
    "cv2.imshow(\"image\",img_rsize) # display image\n",
    "cv2.imshow(\"shifte image\",shifted) # display image\n",
    "cv2.waitKey(0)           # window will wait for till any key is pressed\n",
    "cv2.destroyAllWindows()  # close all the window"
   ]
  },
  {
   "cell_type": "code",
   "execution_count": null,
   "id": "b8905a7d",
   "metadata": {},
   "outputs": [],
   "source": []
  }
 ],
 "metadata": {
  "kernelspec": {
   "display_name": "Python 3",
   "language": "python",
   "name": "python3"
  },
  "language_info": {
   "codemirror_mode": {
    "name": "ipython",
    "version": 3
   },
   "file_extension": ".py",
   "mimetype": "text/x-python",
   "name": "python",
   "nbconvert_exporter": "python",
   "pygments_lexer": "ipython3",
   "version": "3.8.8"
  }
 },
 "nbformat": 4,
 "nbformat_minor": 5
}
